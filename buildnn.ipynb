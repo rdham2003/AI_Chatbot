{
 "cells": [
  {
   "cell_type": "code",
   "execution_count": 1,
   "metadata": {},
   "outputs": [],
   "source": [
    "# Basic Neural Network"
   ]
  },
  {
   "cell_type": "code",
   "execution_count": 2,
   "metadata": {},
   "outputs": [],
   "source": [
    "import torch \n",
    "import torch.nn as nn\n",
    "import torch.nn.functional as f\n",
    "import matplotlib.pyplot as plt\n",
    "import numpy as np\n",
    "import pandas as pd\n",
    "from sklearn.model_selection import train_test_split"
   ]
  },
  {
   "cell_type": "code",
   "execution_count": 3,
   "metadata": {},
   "outputs": [],
   "source": [
    "#Create a Model Class that inherits an nn.Module\n",
    "class Model(nn.Module):\n",
    "    # Input layer (4 features of the flower) --> Hidden Layer (# of neurons) --> Hidden Layer 2 (# of neuros) --> Output (3 classes of iris flowers)\n",
    "    def __init__(self, in_features=4, h1=8, h2=9, out_feature=3):\n",
    "        super().__init__() # instantiate our nn.Module\n",
    "        self.fc1 = nn.Linear(in_features, h1)\n",
    "        self.fc2 = nn.Linear(h1,h2)\n",
    "        self.out = nn.Linear(h2, out_feature)\n",
    "    def forward(self, x):\n",
    "        x = f.relu(self.fc1(x)) #Rectified Linear Unit. If output < 0, call it 0 and move on. Else, use output.\n",
    "        x = f.relu(self.fc2(x))\n",
    "        x = f.relu(self.out(x))\n",
    "        \n",
    "        return x\n",
    "        "
   ]
  },
  {
   "cell_type": "code",
   "execution_count": 4,
   "metadata": {},
   "outputs": [],
   "source": [
    "#Manual seed\n",
    "torch.manual_seed(41)\n",
    "\n",
    "model = Model()"
   ]
  },
  {
   "cell_type": "code",
   "execution_count": 5,
   "metadata": {},
   "outputs": [
    {
     "name": "stderr",
     "output_type": "stream",
     "text": [
      "C:\\Users\\rohit\\AppData\\Local\\Temp\\ipykernel_21588\\1817793093.py:5: FutureWarning: Downcasting behavior in `replace` is deprecated and will be removed in a future version. To retain the old behavior, explicitly call `result.infer_objects(copy=False)`. To opt-in to the future behavior, set `pd.set_option('future.no_silent_downcasting', True)`\n",
      "  df['species'] = df['species'].replace('virginica', 2)\n"
     ]
    },
    {
     "data": {
      "text/html": [
       "<div>\n",
       "<style scoped>\n",
       "    .dataframe tbody tr th:only-of-type {\n",
       "        vertical-align: middle;\n",
       "    }\n",
       "\n",
       "    .dataframe tbody tr th {\n",
       "        vertical-align: top;\n",
       "    }\n",
       "\n",
       "    .dataframe thead th {\n",
       "        text-align: right;\n",
       "    }\n",
       "</style>\n",
       "<table border=\"1\" class=\"dataframe\">\n",
       "  <thead>\n",
       "    <tr style=\"text-align: right;\">\n",
       "      <th></th>\n",
       "      <th>sepal_length</th>\n",
       "      <th>sepal_width</th>\n",
       "      <th>petal_length</th>\n",
       "      <th>petal_width</th>\n",
       "      <th>species</th>\n",
       "    </tr>\n",
       "  </thead>\n",
       "  <tbody>\n",
       "    <tr>\n",
       "      <th>0</th>\n",
       "      <td>5.1</td>\n",
       "      <td>3.5</td>\n",
       "      <td>1.4</td>\n",
       "      <td>0.2</td>\n",
       "      <td>0</td>\n",
       "    </tr>\n",
       "    <tr>\n",
       "      <th>1</th>\n",
       "      <td>4.9</td>\n",
       "      <td>3.0</td>\n",
       "      <td>1.4</td>\n",
       "      <td>0.2</td>\n",
       "      <td>0</td>\n",
       "    </tr>\n",
       "    <tr>\n",
       "      <th>2</th>\n",
       "      <td>4.7</td>\n",
       "      <td>3.2</td>\n",
       "      <td>1.3</td>\n",
       "      <td>0.2</td>\n",
       "      <td>0</td>\n",
       "    </tr>\n",
       "    <tr>\n",
       "      <th>3</th>\n",
       "      <td>4.6</td>\n",
       "      <td>3.1</td>\n",
       "      <td>1.5</td>\n",
       "      <td>0.2</td>\n",
       "      <td>0</td>\n",
       "    </tr>\n",
       "    <tr>\n",
       "      <th>4</th>\n",
       "      <td>5.0</td>\n",
       "      <td>3.6</td>\n",
       "      <td>1.4</td>\n",
       "      <td>0.2</td>\n",
       "      <td>0</td>\n",
       "    </tr>\n",
       "  </tbody>\n",
       "</table>\n",
       "</div>"
      ],
      "text/plain": [
       "   sepal_length  sepal_width  petal_length  petal_width  species\n",
       "0           5.1          3.5           1.4          0.2        0\n",
       "1           4.9          3.0           1.4          0.2        0\n",
       "2           4.7          3.2           1.3          0.2        0\n",
       "3           4.6          3.1           1.5          0.2        0\n",
       "4           5.0          3.6           1.4          0.2        0"
      ]
     },
     "execution_count": 5,
     "metadata": {},
     "output_type": "execute_result"
    }
   ],
   "source": [
    "#Load and preprocess data\n",
    "df = pd.read_csv(\"iris.csv\")\n",
    "df['species'] = df['species'].replace('setosa', 0)\n",
    "df['species'] = df['species'].replace('versicolor', 1)\n",
    "df['species'] = df['species'].replace('virginica', 2)\n",
    "df.head()"
   ]
  },
  {
   "cell_type": "code",
   "execution_count": 6,
   "metadata": {},
   "outputs": [],
   "source": [
    "#Train Test Split! \n",
    "\n",
    "X = df.drop(['species'], axis=1)\n",
    "Y = df['species']\n",
    "\n",
    "X = X.values\n",
    "Y = Y.values\n",
    "\n",
    "X_train, X_test, Y_train, Y_test = train_test_split(X, Y, test_size=0.2, random_state=1)\n"
   ]
  },
  {
   "cell_type": "code",
   "execution_count": 7,
   "metadata": {},
   "outputs": [],
   "source": [
    "#Convert labels to tensors\n",
    "\n",
    "X_train = torch.FloatTensor(X_train)\n",
    "X_test = torch.FloatTensor(X_test)\n",
    "Y_train = torch.LongTensor(Y_train)\n",
    "Y_test = torch.LongTensor(Y_test)\n"
   ]
  },
  {
   "cell_type": "code",
   "execution_count": 8,
   "metadata": {},
   "outputs": [],
   "source": [
    "#Set the criterion of model to measure the error\n",
    "\n",
    "criterion = nn.CrossEntropyLoss()\n",
    "\n",
    "#Choose Adam Optimizer and learning rate (if error doesn't go down after epochs, lower learning rate)\n",
    "optimizer = torch.optim.Adam(model.parameters(), lr = 0.01)\n"
   ]
  },
  {
   "cell_type": "code",
   "execution_count": 9,
   "metadata": {},
   "outputs": [
    {
     "name": "stdout",
     "output_type": "stream",
     "text": [
      "No. of Epoch: 0. Loss: 1.1221736669540405\n",
      "No. of Epoch: 10. Loss: 1.0063387155532837\n",
      "No. of Epoch: 20. Loss: 0.8365880250930786\n",
      "No. of Epoch: 30. Loss: 0.6398993134498596\n",
      "No. of Epoch: 40. Loss: 0.43431395292282104\n",
      "No. of Epoch: 50. Loss: 0.26471954584121704\n",
      "No. of Epoch: 60. Loss: 0.15821123123168945\n",
      "No. of Epoch: 70. Loss: 0.10502949357032776\n",
      "No. of Epoch: 80. Loss: 0.08256678283214569\n",
      "No. of Epoch: 90. Loss: 0.07264795899391174\n"
     ]
    }
   ],
   "source": [
    "# Train the model\n",
    "epochs = 100  # Number of epochs to train the model\n",
    "losses = []   # List to store loss values at each epoch\n",
    "\n",
    "# Training loop\n",
    "for epoch in range(epochs):\n",
    "    # Forward pass: compute predicted y by passing X to the model\n",
    "    y_pred = model.forward(X_train)\n",
    "    \n",
    "    # Compute and print loss\n",
    "    loss = criterion(y_pred, Y_train)\n",
    "    losses.append(loss.detach().numpy())\n",
    "    \n",
    "    if epoch % 10 == 0:\n",
    "        print(f'No. of Epoch: {epoch}. Loss: {loss.item()}')  # Use .item() to get the scalar value of the loss\n",
    "    \n",
    "    # Zero gradients, perform a backward pass, and update the weights\n",
    "    optimizer.zero_grad()\n",
    "    loss.backward()\n",
    "    optimizer.step()\n"
   ]
  },
  {
   "cell_type": "code",
   "execution_count": 10,
   "metadata": {},
   "outputs": [
    {
     "data": {
      "text/plain": [
       "Text(0, 0.5, 'Loss/Error')"
      ]
     },
     "execution_count": 10,
     "metadata": {},
     "output_type": "execute_result"
    },
    {
     "data": {
      "image/png": "[encoded data removed]",
      "text/plain": [
       "<Figure size 640x480 with 1 Axes>"
      ]
     },
     "metadata": {},
     "output_type": "display_data"
    }
   ],
   "source": [
    "#Graph Loss vs Epoch \n",
    "\n",
    "plt.plot(range(epochs), losses)\n",
    "plt.xlabel('Epoch')\n",
    "plt.ylabel('Loss/Error')"
   ]
  },
  {
   "cell_type": "code",
   "execution_count": 11,
   "metadata": {},
   "outputs": [
    {
     "data": {
      "text/plain": [
       "tensor(0.0500)"
      ]
     },
     "execution_count": 11,
     "metadata": {},
     "output_type": "execute_result"
    }
   ],
   "source": [
    "with torch.no_grad(): #Turn off back propogation\n",
    "    y_eval = model.forward(X_test)\n",
    "    loss = criterion(y_eval, Y_test) #Find loss or error\n",
    "loss"
   ]
  },
  {
   "cell_type": "code",
   "execution_count": 12,
   "metadata": {},
   "outputs": [
    {
     "name": "stdout",
     "output_type": "stream",
     "text": [
      "1. tensor([11.6580,  5.1572,  0.0000]) \t 0 \t True\n",
      "2. tensor([3.9597, 7.1078, 0.1978]) \t 1 \t True\n",
      "3. tensor([2.2065, 9.5610, 3.9315]) \t 1 \t True\n",
      "4. tensor([11.0090,  4.8955,  0.0000]) \t 0 \t True\n",
      "5. tensor([ 0.0000, 10.7747, 12.9093]) \t 2 \t True\n",
      "6. tensor([0.9411, 9.2902, 6.2738]) \t 1 \t True\n",
      "7. tensor([ 0.0000,  9.6489, 12.1244]) \t 2 \t True\n",
      "8. tensor([9.7441, 4.9211, 0.0000]) \t 0 \t True\n",
      "9. tensor([9.5467, 4.3060, 0.0000]) \t 0 \t True\n",
      "10. tensor([ 0.0000,  9.4483, 14.7790]) \t 2 \t True\n",
      "11. tensor([1.2753, 8.3307, 4.8176]) \t 1 \t True\n",
      "12. tensor([10.6111,  4.9396,  0.0000]) \t 0 \t True\n",
      "13. tensor([ 0.0000,  9.5206, 14.6930]) \t 2 \t True\n",
      "14. tensor([1.6999, 9.4557, 4.7667]) \t 1 \t True\n",
      "15. tensor([0.7628, 8.7858, 6.2903]) \t 1 \t True\n",
      "16. tensor([9.3052, 4.2086, 0.0000]) \t 0 \t True\n",
      "17. tensor([2.1712, 8.5169, 3.2418]) \t 1 \t True\n",
      "18. tensor([0.3987, 8.3486, 6.7189]) \t 1 \t True\n",
      "19. tensor([10.3932,  4.8900,  0.0000]) \t 0 \t True\n",
      "20. tensor([10.1476,  4.5482,  0.0000]) \t 0 \t True\n",
      "21. tensor([0.8043, 8.0761, 5.6138]) \t 1 \t True\n",
      "22. tensor([0.1451, 8.1009, 7.0701]) \t 1 \t True\n",
      "23. tensor([0.0000, 9.4679, 8.4861]) \t 1 \t True\n",
      "24. tensor([10.2604,  4.5937,  0.0000]) \t 0 \t True\n",
      "25. tensor([ 0.0000,  9.7586, 12.5704]) \t 2 \t True\n",
      "26. tensor([1.7894, 8.5559, 3.8802]) \t 1 \t True\n",
      "27. tensor([11.2738,  5.0022,  0.0000]) \t 0 \t True\n",
      "28. tensor([10.4605,  4.6744,  0.0000]) \t 0 \t True\n",
      "29. tensor([1.1198, 8.8061, 5.4769]) \t 1 \t True\n",
      "30. tensor([ 0.0000,  8.6544, 11.8156]) \t 2 \t True\n",
      "Score: 30/30\n"
     ]
    }
   ],
   "source": [
    "correct = 0\n",
    "with torch.no_grad():\n",
    "    for i, data in enumerate(X_test):\n",
    "        y_val = model.forward(data)\n",
    "        #What flower out network thinks it is\n",
    "        print(f'{i+1}. {str(y_val)} \\t {Y_test[i]} \\t {y_val.argmax().item() == Y_test[i]}')\n",
    "        \n",
    "        #Correct or not\n",
    "        if y_val.argmax().item() == Y_test[i]:\n",
    "            correct += 1\n",
    "\n",
    "print(f'Score: {correct}/30')"
   ]
  },
  {
   "cell_type": "code",
   "execution_count": 13,
   "metadata": {},
   "outputs": [],
   "source": [
    "new_iris = torch.Tensor([5.0,3.6,1.4,0.2])"
   ]
  },
  {
   "cell_type": "code",
   "execution_count": 14,
   "metadata": {},
   "outputs": [
    {
     "name": "stdout",
     "output_type": "stream",
     "text": [
      "tensor([10.2728,  4.5987,  0.0000])\n"
     ]
    }
   ],
   "source": [
    "with torch.no_grad():\n",
    "    print(model(new_iris))"
   ]
  },
  {
   "cell_type": "code",
   "execution_count": 15,
   "metadata": {},
   "outputs": [],
   "source": [
    "torch.save(model, 'model.pt')"
   ]
  }
 ],
 "metadata": {
  "kernelspec": {
   "display_name": "Python 3",
   "language": "python",
   "name": "python3"
  },
  "language_info": {
   "codemirror_mode": {
    "name": "ipython",
    "version": 3
   },
   "file_extension": ".py",
   "mimetype": "text/x-python",
   "name": "python",
   "nbconvert_exporter": "python",
   "pygments_lexer": "ipython3",
   "version": "3.11.1"
  }
 },
 "nbformat": 4,
 "nbformat_minor": 2
}
